{
 "cells": [
  {
   "cell_type": "markdown",
   "metadata": {},
   "source": [
    "# This is a test to run a web scraper"
   ]
  },
  {
   "cell_type": "code",
   "execution_count": 2,
   "metadata": {},
   "outputs": [],
   "source": [
    "import webbrowser\n",
    "import requests\n",
    "import bs4\n",
    "import pytest"
   ]
  },
  {
   "cell_type": "code",
   "execution_count": 1,
   "metadata": {},
   "outputs": [],
   "source": [
    "from src.scrape_utils import open_site, scrape_text\n"
   ]
  },
  {
   "cell_type": "code",
   "execution_count": 3,
   "metadata": {},
   "outputs": [],
   "source": [
    "openSite = open_site(\"https://goodresearch.dev/\")"
   ]
  },
  {
   "cell_type": "code",
   "execution_count": 4,
   "metadata": {},
   "outputs": [],
   "source": [
    "output = scrape_text(openSite)"
   ]
  },
  {
   "cell_type": "code",
   "execution_count": 6,
   "metadata": {},
   "outputs": [
    {
     "data": {
      "text/plain": [
       "'Most people who write research code are not trained in computer science or software engineering. It can feel like an uphill battle when you have to write code without the right training. Do you ever:'"
      ]
     },
     "execution_count": 6,
     "metadata": {},
     "output_type": "execute_result"
    }
   ],
   "source": [
    "output[5]"
   ]
  },
  {
   "cell_type": "code",
   "execution_count": 7,
   "metadata": {},
   "outputs": [],
   "source": [
    "test = open_site(\"https://stackoverflow.com/questions/68759757/python-not-recognizing-function-within-imported-module\")"
   ]
  },
  {
   "cell_type": "code",
   "execution_count": 15,
   "metadata": {},
   "outputs": [],
   "source": [
    "output = scrape_text(test, html_obj='code')"
   ]
  },
  {
   "cell_type": "code",
   "execution_count": 16,
   "metadata": {},
   "outputs": [
    {
     "name": "stdout",
     "output_type": "stream",
     "text": [
      " in_n_ft = 12\n",
      " ft_n_mile = 5280\n",
      " m_n_km = 1000\n",
      " cm_n_in = 2.54\n",
      " cm_n_m = 100\n",
      " mm_n_m = 1000\n",
      " def ft_to_km(feet):\n",
      "     return feet*in_n_ft*cm_n_in/cm_n_m/m_n_km\n",
      " print(ft_to_km(5280))\n",
      " def mil_to_km(mile):\n",
      "     return mile*ft_n_mile*in_n_ft*cm_n_in/cm_n_m/m_n_km\n",
      "    \n",
      " print(mil_to_km(3.2)) \n",
      "\n",
      " import conv\n",
      " km = conv.mil_to_km(5) \n",
      "\n",
      "AttributeError                            Traceback (most recent call last)\n",
      "<ipython-input-111-bfd778724ae2> in <module>\n",
      "      3 import conv\n",
      "      4 \n",
      "----> 5 km = conv.mil_to_km(5)\n",
      "AttributeError: module 'conv' has no attribute 'mil_to_km'\n",
      "\n",
      "dir(conv)\n",
      "\n",
      "['__builtins__',\n",
      " '__cached__',\n",
      " '__doc__',\n",
      " '__file__',\n",
      " '__loader__',\n",
      " '__name__',\n",
      " '__package__',\n",
      " '__spec__']\n",
      "\n",
      "from conv import mil_to_km\n",
      "\n",
      "cannot import name 'mil_to_km' from 'conv' (C:\\Users\\223023441\\Documents\\python\\conv.py)\n",
      "\n",
      "from inspect import getmembers, isfunction\n",
      "import conv\n",
      "\n",
      "print(getmembers(conv, isfunction))\n",
      "\n",
      "['__builtins__',\n",
      " '__cached__',\n",
      " '__doc__',\n",
      " '__file__',\n",
      " '__loader__',\n",
      " '__name__',\n",
      " '__package__',\n",
      " '__spec__']\n",
      "\n",
      "conv.__file__\n",
      "conv\n",
      "conv\n",
      "conv.__file__\n",
      "from\n",
      "from conv import mil_to_km\n",
      "\n",
      "km = mil_to_km(5) \n",
      "\n",
      "import conv\n",
      "mil_to_km\n",
      "sys.modules['conv']\n"
     ]
    }
   ],
   "source": [
    "for i in range(len(output)):\n",
    "    print(output[i])"
   ]
  },
  {
   "cell_type": "code",
   "execution_count": null,
   "metadata": {},
   "outputs": [],
   "source": []
  }
 ],
 "metadata": {
  "kernelspec": {
   "display_name": "scraper",
   "language": "python",
   "name": "python3"
  },
  "language_info": {
   "codemirror_mode": {
    "name": "ipython",
    "version": 3
   },
   "file_extension": ".py",
   "mimetype": "text/x-python",
   "name": "python",
   "nbconvert_exporter": "python",
   "pygments_lexer": "ipython3",
   "version": "3.9.19"
  }
 },
 "nbformat": 4,
 "nbformat_minor": 2
}
