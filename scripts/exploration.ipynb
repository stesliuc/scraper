{
 "cells": [
  {
   "cell_type": "markdown",
   "metadata": {},
   "source": [
    "# This is a test to run a web scraper"
   ]
  },
  {
   "cell_type": "code",
   "execution_count": 2,
   "metadata": {},
   "outputs": [],
   "source": [
    "import webbrowser\n",
    "import requests\n",
    "import bs4\n",
    "import pytest"
   ]
  },
  {
   "cell_type": "code",
   "execution_count": 1,
   "metadata": {},
   "outputs": [],
   "source": [
    "from src.scrape_utils import open_site, scrape_text\n"
   ]
  },
  {
   "cell_type": "code",
   "execution_count": 3,
   "metadata": {},
   "outputs": [],
   "source": [
    "openSite = open_site(\"https://goodresearch.dev/\")"
   ]
  },
  {
   "cell_type": "code",
   "execution_count": 4,
   "metadata": {},
   "outputs": [],
   "source": [
    "output = scrape_text(openSite)"
   ]
  },
  {
   "cell_type": "code",
   "execution_count": 6,
   "metadata": {},
   "outputs": [
    {
     "data": {
      "text/plain": [
       "'Most people who write research code are not trained in computer science or software engineering. It can feel like an uphill battle when you have to write code without the right training. Do you ever:'"
      ]
     },
     "execution_count": 6,
     "metadata": {},
     "output_type": "execute_result"
    }
   ],
   "source": [
    "output[5]"
   ]
  },
  {
   "cell_type": "code",
   "execution_count": 7,
   "metadata": {},
   "outputs": [],
   "source": [
    "test = open_site(\"https://stackoverflow.com/questions/68759757/python-not-recognizing-function-within-imported-module\")"
   ]
  },
  {
   "cell_type": "code",
   "execution_count": 15,
   "metadata": {},
   "outputs": [],
   "source": [
    "output = scrape_text(test, html_obj='code')"
   ]
  },
  {
   "cell_type": "code",
   "execution_count": 16,
   "metadata": {},
   "outputs": [
    {
     "name": "stdout",
     "output_type": "stream",
     "text": [
      " in_n_ft = 12\n",
      " ft_n_mile = 5280\n",
      " m_n_km = 1000\n",
      " cm_n_in = 2.54\n",
      " cm_n_m = 100\n",
      " mm_n_m = 1000\n",
      " def ft_to_km(feet):\n",
      "     return feet*in_n_ft*cm_n_in/cm_n_m/m_n_km\n",
      " print(ft_to_km(5280))\n",
      " def mil_to_km(mile):\n",
      "     return mile*ft_n_mile*in_n_ft*cm_n_in/cm_n_m/m_n_km\n",
      "    \n",
      " print(mil_to_km(3.2)) \n",
      "\n",
      " import conv\n",
      " km = conv.mil_to_km(5) \n",
      "\n",
      "AttributeError                            Traceback (most recent call last)\n",
      "<ipython-input-111-bfd778724ae2> in <module>\n",
      "      3 import conv\n",
      "      4 \n",
      "----> 5 km = conv.mil_to_km(5)\n",
      "AttributeError: module 'conv' has no attribute 'mil_to_km'\n",
      "\n",
      "dir(conv)\n",
      "\n",
      "['__builtins__',\n",
      " '__cached__',\n",
      " '__doc__',\n",
      " '__file__',\n",
      " '__loader__',\n",
      " '__name__',\n",
      " '__package__',\n",
      " '__spec__']\n",
      "\n",
      "from conv import mil_to_km\n",
      "\n",
      "cannot import name 'mil_to_km' from 'conv' (C:\\Users\\223023441\\Documents\\python\\conv.py)\n",
      "\n",
      "from inspect import getmembers, isfunction\n",
      "import conv\n",
      "\n",
      "print(getmembers(conv, isfunction))\n",
      "\n",
      "['__builtins__',\n",
      " '__cached__',\n",
      " '__doc__',\n",
      " '__file__',\n",
      " '__loader__',\n",
      " '__name__',\n",
      " '__package__',\n",
      " '__spec__']\n",
      "\n",
      "conv.__file__\n",
      "conv\n",
      "conv\n",
      "conv.__file__\n",
      "from\n",
      "from conv import mil_to_km\n",
      "\n",
      "km = mil_to_km(5) \n",
      "\n",
      "import conv\n",
      "mil_to_km\n",
      "sys.modules['conv']\n"
     ]
    }
   ],
   "source": [
    "for i in range(len(output)):\n",
    "    print(output[i])"
   ]
  },
  {
   "cell_type": "code",
   "execution_count": 17,
   "metadata": {},
   "outputs": [],
   "source": [
    "openSite = open_site(\"https://goodresearch.dev/\")"
   ]
  },
  {
   "cell_type": "code",
   "execution_count": 20,
   "metadata": {},
   "outputs": [],
   "source": [
    "site_content = scrape_text(openSite)"
   ]
  },
  {
   "cell_type": "code",
   "execution_count": 28,
   "metadata": {},
   "outputs": [],
   "source": [
    "links = openSite.find_all(\"a\")"
   ]
  },
  {
   "cell_type": "code",
   "execution_count": 30,
   "metadata": {},
   "outputs": [
    {
     "name": "stdout",
     "output_type": "stream",
     "text": [
      "Link: # Text: None\n",
      "Link: # Text: \n",
      "   The Good Research Code Handbook\n",
      "  \n",
      "Link: /roadmap Text: \n",
      "   Roadmap\n",
      "  \n",
      "Link: /brains Text: \n",
      "   Brains & coding\n",
      "  \n",
      "Link: /setup Text: \n",
      "   Set up your project\n",
      "  \n",
      "Link: /tidy Text: \n",
      "   Keep things tidy\n",
      "  \n",
      "Link: /decoupled Text: \n",
      "   Write decoupled code\n",
      "  \n",
      "Link: /testing Text: \n",
      "   Test your code\n",
      "  \n",
      "Link: /docs Text: \n",
      "   Document your code\n",
      "  \n",
      "Link: /pipelines Text: \n",
      "   Document your project\n",
      "  \n",
      "Link: /social Text: \n",
      "   Make it social\n",
      "  \n",
      "Link: /zipf Text: \n",
      "   A sample project: Zipf’s law\n",
      "  \n",
      "Link: /cka Text: \n",
      "   Test numerical code: CKA\n",
      "  \n",
      "Link: /tools Text: \n",
      "   Use good tools\n",
      "  \n",
      "Link: /acknowledgements Text: \n",
      "   Acknowledgements\n",
      "  \n",
      "Link: https://jupyterbook.org Text: Jupyter Book\n",
      "Link: https://github.com/patrickmineault/codebook Text: Star on Github\n",
      "Link: http://eepurl.com/hHgNOH Text: Subscribe for updates\n",
      "Link: http://twitter.com/share?text=The+Good+Research+Code+Handbook.+Learn+to+write+readable%2C+maintainable+research+code+in+Python.&url=https://goodresearch.dev&user&via=patrickmineault Text: Tweet this handbook\n",
      "Link: _sources/index.md Text: .md\n",
      "Link: https://github.com/patrickmineault/repl-test Text: None\n",
      "Link: https://github.com/patrickmineault/repl-test/issues/new?title=Issue%20on%20page%20%2Findex.html&body=Your%20issue%20content%20here. Text: None\n",
      "Link: https://github.com/patrickmineault/repl-test/edit/main/./index.md Text: None\n",
      "Link: None Text: None\n",
      "Link: #prerequisites Text: \n",
      "   Prerequisites\n",
      "  \n",
      "Link: #why-did-i-make-this Text: \n",
      "   Why did I make this?\n",
      "  \n",
      "Link: #citing-this-handbook Text: \n",
      "   Citing this handbook\n",
      "  \n",
      "Link: #alternative-formats Text: \n",
      "   Alternative formats\n",
      "  \n",
      "Link: #contact-me Text: \n",
      "   Contact me\n",
      "  \n",
      "Link: #the-good-research-code-handbook Text: ¶\n",
      "Link: https://twitter.com/KyleMorgenstein Text: @KyleMorgenstein\n",
      "Link: #prerequisites Text: ¶\n",
      "Link: https://swcarpentry.github.io/git-novice/ Text: There’s a great intro to git for beginners from software carpentries\n",
      "Link: http://swcarpentry.github.io/shell-novice/ Text: There’s a great intro to the unix shell from software carpentries\n",
      "Link: /tools#wsl Text: install the Windows Subsystem for Linux (WSL)\n",
      "Link: _images/unicorn.png Text: None\n",
      "Link: #why-did-i-make-this Text: ¶\n",
      "Link: https://xcorr.net Text: Patrick Mineault\n",
      "Link: _images/twitter.svg Text: None\n",
      "Link: #citing-this-handbook Text: ¶\n",
      "Link: https://dx.doi.org/10.5281/zenodo.5796873 Text: doi:10.5281/zenodo.5796873\n",
      "Link: #alternative-formats Text: ¶\n",
      "Link: _static/book.pdf Text: You can download a PDF version of this book here\n",
      "Link: https://github.com/patrickmineault/research_code Text: the same materials\n",
      "Link: https://www.crowdcast.io/e/nma2021/29 Text: here\n",
      "Link: https://testandcode.com/193 Text: I discuss some of the practices in this book with Brian Okken on the Test & Code podcast\n",
      "Link: #contact-me Text: ¶\n",
      "Link: https://xcorr.dev Text: xcorr consulting\n",
      "Link: mailto:hello%40xcorr.dev Text: None\n",
      "Link: https://github.com/patrickmineault/codebook/issues Text: Issues with the handbook can be reported on Github\n",
      "Link: https://twitter.com/patrickmineault Text: I’m also active on Twitter\n",
      "Link: /roadmap Text: None\n",
      "Link: https://xcorr.net Text: Patrick Mineault\n",
      "Link: https://twitter.com/patrickmineault Text: None\n",
      "Link: https://github.com/patrickmineault/codebook/blob/main/LICENSE Text: CC-BY 4.0\n",
      "Link: https://github.com/patrickmineault/codebook Text: source\n",
      "Link: https://github.com/patrickmineault/codebook/issues Text: Report issue\n"
     ]
    }
   ],
   "source": [
    "for link in links:\n",
    "  print(\"Link:\", link.get(\"href\"), \"Text:\", link.string)\n",
    " "
   ]
  },
  {
   "cell_type": "code",
   "execution_count": 31,
   "metadata": {},
   "outputs": [
    {
     "ename": "ModuleNotFoundError",
     "evalue": "No module named 'networkx'",
     "output_type": "error",
     "traceback": [
      "\u001b[0;31m---------------------------------------------------------------------------\u001b[0m",
      "\u001b[0;31mModuleNotFoundError\u001b[0m                       Traceback (most recent call last)",
      "Cell \u001b[0;32mIn[31], line 3\u001b[0m\n\u001b[1;32m      1\u001b[0m \u001b[38;5;28;01mimport\u001b[39;00m \u001b[38;5;21;01mrequests\u001b[39;00m\n\u001b[1;32m      2\u001b[0m \u001b[38;5;28;01mfrom\u001b[39;00m \u001b[38;5;21;01mbs4\u001b[39;00m \u001b[38;5;28;01mimport\u001b[39;00m BeautifulSoup\n\u001b[0;32m----> 3\u001b[0m \u001b[38;5;28;01mimport\u001b[39;00m \u001b[38;5;21;01mnetworkx\u001b[39;00m \u001b[38;5;28;01mas\u001b[39;00m \u001b[38;5;21;01mnx\u001b[39;00m\n\u001b[1;32m      5\u001b[0m \u001b[38;5;28;01mdef\u001b[39;00m \u001b[38;5;21mfetch_url\u001b[39m(url):\n\u001b[1;32m      6\u001b[0m     \u001b[38;5;28;01mtry\u001b[39;00m:\n",
      "\u001b[0;31mModuleNotFoundError\u001b[0m: No module named 'networkx'"
     ]
    }
   ],
   "source": [
    "import requests\n",
    "from bs4 import BeautifulSoup\n",
    "import networkx as nx\n",
    "\n",
    "def fetch_url(url):\n",
    "    try:\n",
    "        response = requests.get(url)\n",
    "        return response.text\n",
    "    except requests.exceptions.RequestException as e:\n",
    "        print(f\"Failed to fetch {url}: {e}\")\n",
    "        return None\n",
    "\n",
    "def extract_links(html_content):\n",
    "    links = []\n",
    "    if html_content:\n",
    "        soup = BeautifulSoup(html_content, 'html.parser')\n",
    "        for link in soup.find_all('a'):\n",
    "            href = link.get('href')\n",
    "            if href and href.startswith('http'):\n",
    "                links.append(href)\n",
    "    return links\n",
    "\n",
    "def scrape_links(start_url, depth):\n",
    "    graph = nx.DiGraph()\n",
    "    visited = set()\n",
    "\n",
    "    def scrape(url, current_depth):\n",
    "        if current_depth > depth or url in visited:\n",
    "            return\n",
    "        visited.add(url)\n",
    "        html_content = fetch_url(url)\n",
    "        if html_content:\n",
    "            for link in extract_links(html_content):\n",
    "                graph.add_edge(url, link)\n",
    "                scrape(link, current_depth + 1)\n",
    "\n",
    "    scrape(start_url, 0)\n",
    "    return graph\n"
   ]
  },
  {
   "cell_type": "code",
   "execution_count": 32,
   "metadata": {},
   "outputs": [],
   "source": [
    "from src.graph_utils import Graph"
   ]
  },
  {
   "cell_type": "code",
   "execution_count": null,
   "metadata": {},
   "outputs": [],
   "source": []
  }
 ],
 "metadata": {
  "kernelspec": {
   "display_name": "scraper",
   "language": "python",
   "name": "python3"
  },
  "language_info": {
   "codemirror_mode": {
    "name": "ipython",
    "version": 3
   },
   "file_extension": ".py",
   "mimetype": "text/x-python",
   "name": "python",
   "nbconvert_exporter": "python",
   "pygments_lexer": "ipython3",
   "version": "3.9.19"
  }
 },
 "nbformat": 4,
 "nbformat_minor": 2
}
