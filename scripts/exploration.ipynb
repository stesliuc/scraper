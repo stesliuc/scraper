{
 "cells": [
  {
   "cell_type": "markdown",
   "metadata": {},
   "source": [
    "# This is a test to run a web scraper"
   ]
  },
  {
   "cell_type": "code",
   "execution_count": 1,
   "metadata": {},
   "outputs": [],
   "source": [
    "import src.scrape_utils as sc\n"
   ]
  },
  {
   "cell_type": "code",
   "execution_count": 2,
   "metadata": {},
   "outputs": [],
   "source": [
    "url = \"https://goodresearch.dev/\""
   ]
  },
  {
   "cell_type": "code",
   "execution_count": 3,
   "metadata": {},
   "outputs": [],
   "source": [
    "scraper = sc.Scraper()"
   ]
  },
  {
   "cell_type": "code",
   "execution_count": 4,
   "metadata": {},
   "outputs": [],
   "source": [
    "visited_graph = scraper.scrape_url(url)"
   ]
  },
  {
   "cell_type": "code",
   "execution_count": 5,
   "metadata": {},
   "outputs": [
    {
     "data": {
      "text/plain": [
       "['https://goodresearch.dev/',\n",
       " 'https://jupyterbook.org',\n",
       " 'https://github.com/patrickmineault/codebook',\n",
       " 'http://eepurl.com/hHgNOH',\n",
       " 'http://twitter.com/share?text=The+Good+Research+Code+Handbook.+Learn+to+write+readable%2C+maintainable+research+code+in+Python.&url=https://goodresearch.dev&user&via=patrickmineault',\n",
       " 'https://github.com/patrickmineault/repl-test',\n",
       " 'https://github.com/patrickmineault/repl-test/issues/new?title=Issue%20on%20page%20%2Findex.html&body=Your%20issue%20content%20here.',\n",
       " 'https://github.com/patrickmineault/repl-test/edit/main/./index.md',\n",
       " 'https://twitter.com/KyleMorgenstein',\n",
       " 'https://swcarpentry.github.io/git-novice/',\n",
       " 'http://swcarpentry.github.io/shell-novice/',\n",
       " 'https://xcorr.net',\n",
       " 'https://dx.doi.org/10.5281/zenodo.5796873',\n",
       " 'https://github.com/patrickmineault/research_code',\n",
       " 'https://www.crowdcast.io/e/nma2021/29',\n",
       " 'https://testandcode.com/193',\n",
       " 'https://xcorr.dev',\n",
       " 'https://github.com/patrickmineault/codebook/issues',\n",
       " 'https://twitter.com/patrickmineault',\n",
       " 'https://github.com/patrickmineault/codebook/blob/main/LICENSE']"
      ]
     },
     "execution_count": 5,
     "metadata": {},
     "output_type": "execute_result"
    }
   ],
   "source": [
    "list(visited_graph.keys()"
   ]
  },
  {
   "cell_type": "code",
   "execution_count": 8,
   "metadata": {},
   "outputs": [],
   "source": [
    "s4 = scraper.scrape_url(\"https://srush.github.io/annotated-s4/\")"
   ]
  },
  {
   "cell_type": "markdown",
   "metadata": {},
   "source": [
    "len(list(visited_graph.keys()))"
   ]
  },
  {
   "cell_type": "code",
   "execution_count": 7,
   "metadata": {},
   "outputs": [
    {
     "data": {
      "text/plain": [
       "20"
      ]
     },
     "execution_count": 7,
     "metadata": {},
     "output_type": "execute_result"
    }
   ],
   "source": [
    "len(list(visited_graph.keys()))"
   ]
  },
  {
   "cell_type": "code",
   "execution_count": 6,
   "metadata": {},
   "outputs": [
    {
     "data": {
      "text/plain": [
       "{'edges': ['https://github.com/',\n",
       "  'https://github.com/features/actions',\n",
       "  'https://github.com/features/packages',\n",
       "  'https://github.com/features/security',\n",
       "  'https://github.com/features/codespaces',\n",
       "  'https://github.com/features/copilot',\n",
       "  'https://github.com/features/code-review',\n",
       "  'https://github.com/features/issues',\n",
       "  'https://github.com/features/discussions',\n",
       "  'https://github.com/features',\n",
       "  'https://docs.github.com',\n",
       "  'https://skills.github.com',\n",
       "  'https://github.blog',\n",
       "  'https://github.com/enterprise',\n",
       "  'https://github.com/team',\n",
       "  'https://github.com/enterprise/startups',\n",
       "  'https://education.github.com',\n",
       "  'https://github.com/solutions/ci-cd',\n",
       "  'https://github.com/solutions/devops',\n",
       "  'https://resources.github.com/devops/fundamentals/devsecops',\n",
       "  'https://resources.github.com/learn/pathways',\n",
       "  'https://resources.github.com',\n",
       "  'https://github.com/customer-stories',\n",
       "  'https://partner.github.com',\n",
       "  'https://github.com/sponsors',\n",
       "  'https://github.com/readme',\n",
       "  'https://github.com/topics',\n",
       "  'https://github.com/trending',\n",
       "  'https://github.com/collections',\n",
       "  'https://github.com/pricing',\n",
       "  'https://docs.github.com/search-github/github-code-search/understanding-github-code-search-syntax',\n",
       "  'https://github.com',\n",
       "  'https://docs.github.com/site-policy/github-terms/github-terms-of-service',\n",
       "  'https://docs.github.com/site-policy/privacy-policies/github-privacy-statement',\n",
       "  'https://github.com/security',\n",
       "  'https://www.githubstatus.com/',\n",
       "  'https://docs.github.com/',\n",
       "  'https://support.github.com?tags=dotcom-footer'],\n",
       " 'content': ['We read every piece of feedback, and take your input very seriously.',\n",
       "  '\\n            To see all available qualifiers, see our documentation.\\n          ',\n",
       "  'Development notes: thebe runs over secure websockets, which means this page must be served through https to test live code locally. Generate a self-signed certificate with OpenSSL as such:']}"
      ]
     },
     "execution_count": 6,
     "metadata": {},
     "output_type": "execute_result"
    }
   ],
   "source": [
    "visited_graph[\"https://github.com/patrickmineault/repl-test\"]"
   ]
  },
  {
   "cell_type": "code",
   "execution_count": 4,
   "metadata": {},
   "outputs": [],
   "source": [
    "html = open(data_path)"
   ]
  },
  {
   "cell_type": "code",
   "execution_count": 5,
   "metadata": {},
   "outputs": [
    {
     "data": {
      "text/plain": [
       "<_io.TextIOWrapper name='../data/example.html' mode='r' encoding='UTF-8'>"
      ]
     },
     "execution_count": 5,
     "metadata": {},
     "output_type": "execute_result"
    }
   ],
   "source": [
    "html"
   ]
  },
  {
   "cell_type": "code",
   "execution_count": 6,
   "metadata": {},
   "outputs": [
    {
     "ename": "TypeError",
     "evalue": "'module' object is not callable",
     "output_type": "error",
     "traceback": [
      "\u001b[0;31m---------------------------------------------------------------------------\u001b[0m",
      "\u001b[0;31mTypeError\u001b[0m                                 Traceback (most recent call last)",
      "Cell \u001b[0;32mIn[6], line 1\u001b[0m\n\u001b[0;32m----> 1\u001b[0m \u001b[43msc\u001b[49m\u001b[38;5;241;43m.\u001b[39;49m\u001b[43mextract_links\u001b[49m\u001b[43m(\u001b[49m\u001b[43mhtml\u001b[49m\u001b[43m)\u001b[49m\n",
      "File \u001b[0;32m~/projects/scraper/src/scrape_utils.py:22\u001b[0m, in \u001b[0;36mextract_links\u001b[0;34m(html_content)\u001b[0m\n\u001b[1;32m     20\u001b[0m links \u001b[38;5;241m=\u001b[39m []\n\u001b[1;32m     21\u001b[0m \u001b[38;5;28;01mif\u001b[39;00m html_content:\n\u001b[0;32m---> 22\u001b[0m     soup \u001b[38;5;241m=\u001b[39m \u001b[43mbs4\u001b[49m\u001b[43m(\u001b[49m\u001b[43mhtml_content\u001b[49m\u001b[43m,\u001b[49m\u001b[43m \u001b[49m\u001b[38;5;124;43m'\u001b[39;49m\u001b[38;5;124;43mhtml.parser\u001b[39;49m\u001b[38;5;124;43m'\u001b[39;49m\u001b[43m)\u001b[49m\n\u001b[1;32m     23\u001b[0m     \u001b[38;5;28;01mfor\u001b[39;00m link \u001b[38;5;129;01min\u001b[39;00m soup\u001b[38;5;241m.\u001b[39mfind_all(\u001b[38;5;124m'\u001b[39m\u001b[38;5;124ma\u001b[39m\u001b[38;5;124m'\u001b[39m):\n\u001b[1;32m     24\u001b[0m         href \u001b[38;5;241m=\u001b[39m link\u001b[38;5;241m.\u001b[39mget(\u001b[38;5;124m'\u001b[39m\u001b[38;5;124mhref\u001b[39m\u001b[38;5;124m'\u001b[39m)\n",
      "\u001b[0;31mTypeError\u001b[0m: 'module' object is not callable"
     ]
    }
   ],
   "source": [
    "sc.extract_links(html)"
   ]
  },
  {
   "cell_type": "code",
   "execution_count": null,
   "metadata": {},
   "outputs": [],
   "source": []
  }
 ],
 "metadata": {
  "kernelspec": {
   "display_name": "scraper",
   "language": "python",
   "name": "python3"
  },
  "language_info": {
   "codemirror_mode": {
    "name": "ipython",
    "version": 3
   },
   "file_extension": ".py",
   "mimetype": "text/x-python",
   "name": "python",
   "nbconvert_exporter": "python",
   "pygments_lexer": "ipython3",
   "version": "3.9.19"
  }
 },
 "nbformat": 4,
 "nbformat_minor": 2
}
